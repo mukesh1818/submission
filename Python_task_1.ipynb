{
 "cells": [
  {
   "cell_type": "code",
   "execution_count": 1,
   "id": "691cdd7e-27ac-4974-9a1e-9bc2078d686f",
   "metadata": {},
   "outputs": [],
   "source": [
    "import pandas as pd"
   ]
  },
  {
   "cell_type": "code",
   "execution_count": 10,
   "id": "ac61cf74-d1f3-4676-a52c-be57d7157772",
   "metadata": {},
   "outputs": [],
   "source": [
    "data = pd.read_csv(\"dataset-1.csv\")"
   ]
  },
  {
   "cell_type": "code",
   "execution_count": 11,
   "id": "76f17ee4-9f95-4b45-8cf3-29c37ac47a9c",
   "metadata": {},
   "outputs": [
    {
     "data": {
      "text/html": [
       "<div>\n",
       "<style scoped>\n",
       "    .dataframe tbody tr th:only-of-type {\n",
       "        vertical-align: middle;\n",
       "    }\n",
       "\n",
       "    .dataframe tbody tr th {\n",
       "        vertical-align: top;\n",
       "    }\n",
       "\n",
       "    .dataframe thead th {\n",
       "        text-align: right;\n",
       "    }\n",
       "</style>\n",
       "<table border=\"1\" class=\"dataframe\">\n",
       "  <thead>\n",
       "    <tr style=\"text-align: right;\">\n",
       "      <th></th>\n",
       "      <th>id_1</th>\n",
       "      <th>id_2</th>\n",
       "      <th>route</th>\n",
       "      <th>moto</th>\n",
       "      <th>car</th>\n",
       "      <th>rv</th>\n",
       "      <th>bus</th>\n",
       "      <th>truck</th>\n",
       "    </tr>\n",
       "  </thead>\n",
       "  <tbody>\n",
       "    <tr>\n",
       "      <th>0</th>\n",
       "      <td>829</td>\n",
       "      <td>827</td>\n",
       "      <td>1</td>\n",
       "      <td>2.05</td>\n",
       "      <td>4.14</td>\n",
       "      <td>4.14</td>\n",
       "      <td>10.1</td>\n",
       "      <td>15.2</td>\n",
       "    </tr>\n",
       "    <tr>\n",
       "      <th>1</th>\n",
       "      <td>829</td>\n",
       "      <td>821</td>\n",
       "      <td>4</td>\n",
       "      <td>6.63</td>\n",
       "      <td>13.26</td>\n",
       "      <td>13.26</td>\n",
       "      <td>32.4</td>\n",
       "      <td>48.5</td>\n",
       "    </tr>\n",
       "    <tr>\n",
       "      <th>2</th>\n",
       "      <td>829</td>\n",
       "      <td>804</td>\n",
       "      <td>7</td>\n",
       "      <td>14.41</td>\n",
       "      <td>28.92</td>\n",
       "      <td>28.92</td>\n",
       "      <td>64.7</td>\n",
       "      <td>97.0</td>\n",
       "    </tr>\n",
       "    <tr>\n",
       "      <th>3</th>\n",
       "      <td>829</td>\n",
       "      <td>822</td>\n",
       "      <td>6</td>\n",
       "      <td>5.90</td>\n",
       "      <td>11.81</td>\n",
       "      <td>11.81</td>\n",
       "      <td>28.8</td>\n",
       "      <td>43.2</td>\n",
       "    </tr>\n",
       "    <tr>\n",
       "      <th>4</th>\n",
       "      <td>829</td>\n",
       "      <td>826</td>\n",
       "      <td>9</td>\n",
       "      <td>2.87</td>\n",
       "      <td>5.81</td>\n",
       "      <td>5.81</td>\n",
       "      <td>14.2</td>\n",
       "      <td>21.2</td>\n",
       "    </tr>\n",
       "  </tbody>\n",
       "</table>\n",
       "</div>"
      ],
      "text/plain": [
       "   id_1  id_2  route   moto    car     rv   bus  truck\n",
       "0   829   827      1   2.05   4.14   4.14  10.1   15.2\n",
       "1   829   821      4   6.63  13.26  13.26  32.4   48.5\n",
       "2   829   804      7  14.41  28.92  28.92  64.7   97.0\n",
       "3   829   822      6   5.90  11.81  11.81  28.8   43.2\n",
       "4   829   826      9   2.87   5.81   5.81  14.2   21.2"
      ]
     },
     "execution_count": 11,
     "metadata": {},
     "output_type": "execute_result"
    }
   ],
   "source": [
    "data.head()"
   ]
  },
  {
   "cell_type": "code",
   "execution_count": 42,
   "id": "25c9405c-b902-407c-bed6-7c157f9d8a2d",
   "metadata": {},
   "outputs": [
    {
     "name": "stdout",
     "output_type": "stream",
     "text": [
      "<class 'pandas.core.frame.DataFrame'>\n",
      "RangeIndex: 341 entries, 0 to 340\n",
      "Data columns (total 8 columns):\n",
      " #   Column  Non-Null Count  Dtype  \n",
      "---  ------  --------------  -----  \n",
      " 0   id_1    341 non-null    int64  \n",
      " 1   id_2    341 non-null    int64  \n",
      " 2   route   341 non-null    int64  \n",
      " 3   moto    341 non-null    float64\n",
      " 4   car     341 non-null    float64\n",
      " 5   rv      341 non-null    float64\n",
      " 6   bus     341 non-null    float64\n",
      " 7   truck   341 non-null    float64\n",
      "dtypes: float64(5), int64(3)\n",
      "memory usage: 21.4 KB\n"
     ]
    }
   ],
   "source": [
    "data.info()"
   ]
  },
  {
   "cell_type": "markdown",
   "id": "e2cb643f-365d-41b2-8c33-083480f6b08d",
   "metadata": {},
   "source": [
    "# Q1. Car Matrix Generation"
   ]
  },
  {
   "cell_type": "code",
   "execution_count": 20,
   "id": "10aa6e4c-d5d5-4bf3-bf01-28e3b996c35a",
   "metadata": {},
   "outputs": [
    {
     "name": "stdout",
     "output_type": "stream",
     "text": [
      "       801    802    803    804    805    806    807    808    809    821  \\\n",
      "801      0    2.8    6.0    7.7   11.7   13.4   16.9   19.6   21.0  23.52   \n",
      "802    2.8      0    3.4    5.2    9.2   10.9   14.3   17.1   18.5  20.92   \n",
      "803    6.0    3.4      0    2.0    6.0    7.7   11.1   13.9   15.3  17.72   \n",
      "804    7.7    5.2    2.0      0    4.4    6.1    9.5   12.3   13.7  16.12   \n",
      "805   11.7    9.2    6.0    4.4      0    2.0    5.4    8.2    9.6  12.02   \n",
      "806   13.4   10.9    7.7    6.1    2.0      0    3.8    6.6    8.0  10.42   \n",
      "807   16.9   14.3   11.1    9.5    5.4    3.8      0    2.9    4.3   6.82   \n",
      "808   19.6   17.1   13.9   12.3    8.2    6.6    2.9      0    1.7   4.12   \n",
      "809   21.0   18.5   15.3   13.7    9.6    8.0    4.3    1.7      0   2.92   \n",
      "821  23.52  20.92  17.72  16.12  12.02  10.42   6.82   4.12   2.92      0   \n",
      "822  24.67  22.07  18.87  17.27  13.17  11.57   7.97   5.27   4.07    1.8   \n",
      "823  26.53  23.93  20.73  19.13  15.03  13.43   9.83   7.13   5.93   3.67   \n",
      "824  27.92  25.32  22.12  20.52  16.42    7.8  11.22   8.52   7.32   5.06   \n",
      "825  29.08  26.48  23.28  21.68  17.58  15.98  12.38   9.68   8.48   6.22   \n",
      "826  30.87  28.27  25.07  23.47  19.37  17.77  14.17  11.47  10.27   8.01   \n",
      "827  32.53  29.93  26.73  25.13  21.03  19.43  15.83  13.13  11.93   9.43   \n",
      "829  36.32  33.72  30.52  28.92  24.82  23.22  19.62  16.92  15.72  13.26   \n",
      "830  38.27  35.67  32.47  30.87  26.77  25.17  21.57  18.87  17.67  15.17   \n",
      "831  39.24  36.64  33.44  31.84  27.74  26.14  22.54  19.84  18.64  16.15   \n",
      "\n",
      "       822    823    824    825    826    827    829    830    831  \n",
      "801  24.67  26.53  27.92  29.08  30.87  32.53  36.32  38.27  39.24  \n",
      "802  22.07  23.93  25.32  26.48  28.27  29.93  33.72  35.67  36.64  \n",
      "803  18.87  20.73  22.12  23.28  25.07  26.73  30.52  32.47  33.44  \n",
      "804  17.27  19.13  20.52  21.68  23.47  25.13  28.92  30.87  31.84  \n",
      "805  13.17  15.03  16.42  17.58  19.37  21.03  24.82  26.77  27.74  \n",
      "806  11.57  13.43  14.82  15.98  17.77  19.43  23.22  25.17  26.14  \n",
      "807   7.97   9.83  11.22  12.38  14.17  15.83  19.62  21.57  22.54  \n",
      "808   5.27   7.13   8.52   9.68  11.47  13.13  16.92  18.87  19.84  \n",
      "809   4.07   5.93   7.32   8.48  10.27  11.93  15.72  17.67  18.64  \n",
      "821    1.8   3.67   5.06   6.22   8.01   9.43  13.26  15.17  16.15  \n",
      "822      0   2.21    3.6   4.76   6.55    8.0  11.81  13.74  14.68  \n",
      "823   2.21      0   1.79   2.94   4.74   6.15   10.0  11.89  12.87  \n",
      "824    3.6   1.79      0   1.71    3.5   4.92   8.77  10.66  11.64  \n",
      "825   4.76   2.94   1.71      0    2.2   3.65   7.46   9.35  10.33  \n",
      "826   6.55   4.74    3.5    2.2      0   2.05   5.81   7.71   8.69  \n",
      "827    8.0   6.15   4.92   3.65   2.05      0   4.14   6.06   7.04  \n",
      "829  11.81   10.0   21.4   7.46   5.81   4.14      0   2.38   3.36  \n",
      "830  13.74  11.89  10.66      0   7.71   6.06   2.38      0   1.39  \n",
      "831  14.68  12.87  11.64  10.33   8.69   7.04   3.36   1.39      0  \n"
     ]
    }
   ],
   "source": [
    "# Extract unique ids from both id_1 and id_2 columns\n",
    "unique_ids = sorted(set(data['id_1'].unique()) | set(data['id_2'].unique()))\n",
    "\n",
    "# Create an empty DataFrame with ids as indices and columns\n",
    "car_matrix = pd.DataFrame(index=unique_ids, columns=unique_ids)\n",
    "\n",
    "# Fill the diagonal values with 0\n",
    "car_matrix.values[[range(len(unique_ids))]*2] = 0\n",
    "\n",
    "# Fill in the values from the 'car' column based on id_1 and id_2\n",
    "for _, row in data.iterrows():\n",
    "    car_matrix.at[row['id_1'], row['id_2']] = row['car']\n",
    "\n",
    "\n",
    "print(car_matrix)"
   ]
  },
  {
   "cell_type": "markdown",
   "id": "72123763-6e6d-4d6d-8c44-c848d4651a7a",
   "metadata": {},
   "source": [
    "# Q2. Car type Count Calculation"
   ]
  },
  {
   "cell_type": "code",
   "execution_count": 15,
   "id": "bc1ddb11-5454-48ca-8a11-a08a4f58af84",
   "metadata": {},
   "outputs": [
    {
     "name": "stdout",
     "output_type": "stream",
     "text": [
      "{'high': 56, 'low': 196, 'medium': 89}\n"
     ]
    }
   ],
   "source": [
    "\n",
    "\n",
    "def get_type_count(df):\n",
    "    \n",
    "    df['car_type'] = pd.cut(df['car'], bins=[-float('inf'), 15, 25, float('inf')],\n",
    "                            labels=['low', 'medium', 'high'], right=False)\n",
    "\n",
    "    # Calculate the count of occurrences for each car_type category\n",
    "    type_count = df['car_type'].value_counts().to_dict()\n",
    "\n",
    "    # Sort the dictionary alphabetically based on keys\n",
    "    type_count = dict(sorted(type_count.items()))\n",
    "\n",
    "    return type_count\n",
    "\n",
    "# Example usage:\n",
    "\n",
    "df1 = pd.read_csv(\"dataset-1.csv\")\n",
    "    \n",
    "result_type_count = get_type_count(df1)\n",
    "print(result_type_count)\n"
   ]
  },
  {
   "cell_type": "markdown",
   "id": "a11272c6-57a5-43b1-8427-9500d7799dda",
   "metadata": {},
   "source": [
    "# Q3.Bus Count Index Retrieval"
   ]
  },
  {
   "cell_type": "code",
   "execution_count": 16,
   "id": "a721d86a-50b7-4354-bcd9-ea72000e64e1",
   "metadata": {},
   "outputs": [
    {
     "name": "stdout",
     "output_type": "stream",
     "text": [
      "[2, 7, 12, 17, 25, 30, 54, 64, 70, 97, 144, 145, 149, 154, 160, 201, 206, 210, 215, 234, 235, 245, 250, 309, 314, 319, 322, 323, 334, 340]\n"
     ]
    }
   ],
   "source": [
    "# Calculate the mean of the 'bus' column\n",
    "bus_mean = df1['bus'].mean()\n",
    "\n",
    "# Identify indices where 'bus' values are greater than twice the mean\n",
    "bus_indexes = df1[df1['bus'] > 2 * bus_mean].index.tolist()\n",
    "\n",
    "# Sort the list of indices in ascending order\n",
    "bus_indexes.sort()\n",
    "\n",
    "\n",
    "print(bus_indexes)"
   ]
  },
  {
   "cell_type": "markdown",
   "id": "0e766c97-d6c2-4840-aa78-fe942265a13b",
   "metadata": {},
   "source": [
    "# Q4.Route Filtering"
   ]
  },
  {
   "cell_type": "code",
   "execution_count": 17,
   "id": "dbfacf44-1acb-4410-87a7-96aef970422b",
   "metadata": {},
   "outputs": [
    {
     "name": "stdout",
     "output_type": "stream",
     "text": [
      "[1, 2, 3, 4, 5, 6, 7, 8, 9, 10]\n"
     ]
    }
   ],
   "source": [
    "# Group by 'route' and calculate the average of 'truck' values for each route\n",
    "route_avg_truck = df1.groupby('route')['truck'].mean()\n",
    "\n",
    "# Filter routes where the average 'truck' values are greater than 7\n",
    "filtered_routes = route_avg_truck[route_avg_truck > 7].index.tolist()\n",
    "\n",
    "# Sort the list of route names in ascending order\n",
    "filtered_routes.sort()\n",
    "\n",
    "# Print the resulting list of route names\n",
    "print(filtered_routes)"
   ]
  },
  {
   "cell_type": "markdown",
   "id": "17db1c6e-7ca5-42a4-86b9-5c69c6ec39a1",
   "metadata": {},
   "source": [
    "# Q5.Matrix Value Modification"
   ]
  },
  {
   "cell_type": "code",
   "execution_count": 21,
   "id": "5dd54811-0b46-4fa8-9385-845ae0e8c0ee",
   "metadata": {},
   "outputs": [
    {
     "name": "stdout",
     "output_type": "stream",
     "text": [
      "      801   802   803   804   805   806   807   808   809   821   822   823  \\\n",
      "801   0.0   3.5   7.5   9.6  14.6  16.8  21.1  24.5  15.8  17.6  18.5  19.9   \n",
      "802   3.5   0.0   4.2   6.5  11.5  13.6  17.9  21.4  23.1  15.7  16.6  17.9   \n",
      "803   7.5   4.2   0.0   2.5   7.5   9.6  13.9  17.4  19.1  22.2  23.6  15.5   \n",
      "804   9.6   6.5   2.5   0.0   5.5   7.6  11.9  15.4  17.1  20.2  21.6  23.9   \n",
      "805  14.6  11.5   7.5   5.5   0.0   2.5   6.8  10.2  12.0  15.0  16.5  18.8   \n",
      "806  16.8  13.6   9.6   7.6   2.5   0.0   4.8   8.2  10.0  13.0  14.5  16.8   \n",
      "807  21.1  17.9  13.9  11.9   6.8   4.8   0.0   3.6   5.4   8.5  10.0  12.3   \n",
      "808  24.5  21.4  17.4  15.4  10.2   8.2   3.6   0.0   2.1   5.2   6.6   8.9   \n",
      "809  15.8  23.1  19.1  17.1  12.0  10.0   5.4   2.1   0.0   3.6   5.1   7.4   \n",
      "821  17.6  15.7  22.2  20.2  15.0  13.0   8.5   5.2   3.6   0.0   2.2   4.6   \n",
      "822  18.5  16.6  23.6  21.6  16.5  14.5  10.0   6.6   5.1   2.2   0.0   2.8   \n",
      "823  19.9  17.9  15.5  23.9  18.8  16.8  12.3   8.9   7.4   4.6   2.8   0.0   \n",
      "824  20.9  19.0  16.6  15.4  20.5   9.8  14.0  10.6   9.2   6.3   4.5   2.2   \n",
      "825  21.8  19.9  17.5  16.3  22.0  20.0  15.5  12.1  10.6   7.8   5.9   3.7   \n",
      "826  23.2  21.2  18.8  17.6  24.2  22.2  17.7  14.3  12.8  10.0   8.2   5.9   \n",
      "827  24.4  22.4  20.0  18.8  15.8  24.3  19.8  16.4  14.9  11.8  10.0   7.7   \n",
      "829  27.2  25.3  22.9  21.7  18.6  17.4  24.5  21.2  19.7  16.6  14.8  12.5   \n",
      "830  28.7  26.8  24.4  23.2  20.1  18.9  16.2  23.6  22.1  19.0  17.2  14.9   \n",
      "831  29.4  27.5  25.1  23.9  20.8  19.6  16.9  24.8  23.3  20.2  18.4  16.1   \n",
      "\n",
      "      824   825   826   827   829   830   831  \n",
      "801  20.9  21.8  23.2  24.4  27.2  28.7  29.4  \n",
      "802  19.0  19.9  21.2  22.4  25.3  26.8  27.5  \n",
      "803  16.6  17.5  18.8  20.0  22.9  24.4  25.1  \n",
      "804  15.4  16.3  17.6  18.8  21.7  23.2  23.9  \n",
      "805  20.5  22.0  24.2  15.8  18.6  20.1  20.8  \n",
      "806  18.5  20.0  22.2  24.3  17.4  18.9  19.6  \n",
      "807  14.0  15.5  17.7  19.8  24.5  16.2  16.9  \n",
      "808  10.6  12.1  14.3  16.4  21.2  23.6  24.8  \n",
      "809   9.2  10.6  12.8  14.9  19.7  22.1  23.3  \n",
      "821   6.3   7.8  10.0  11.8  16.6  19.0  20.2  \n",
      "822   4.5   5.9   8.2  10.0  14.8  17.2  18.4  \n",
      "823   2.2   3.7   5.9   7.7  12.5  14.9  16.1  \n",
      "824   0.0   2.1   4.4   6.2  11.0  13.3  14.6  \n",
      "825   2.1   0.0   2.8   4.6   9.3  11.7  12.9  \n",
      "826   4.4   2.8   0.0   2.6   7.3   9.6  10.9  \n",
      "827   6.2   4.6   2.6   0.0   5.2   7.6   8.8  \n",
      "829  16.0   9.3   7.3   5.2   0.0   3.0   4.2  \n",
      "830  13.3   0.0   9.6   7.6   3.0   0.0   1.7  \n",
      "831  14.6  12.9  10.9   8.8   4.2   1.7   0.0  \n"
     ]
    }
   ],
   "source": [
    "\n",
    "\n",
    "\n",
    "result_matrix = car_matrix\n",
    "\n",
    "\n",
    "\n",
    "\n",
    "\n",
    "# Apply custom conditions to multiply matrix values\n",
    "modified_result_matrix = result_matrix.applymap(lambda x: x * 0.75 if x > 20 else x * 1.25)\n",
    "\n",
    "# Round the values to 1 decimal place\n",
    "modified_result_matrix = modified_result_matrix.round(1)\n",
    "\n",
    "\n",
    "# Print the modified matrix\n",
    "print(modified_result_matrix)"
   ]
  },
  {
   "cell_type": "markdown",
   "id": "4927a935-e463-4b15-9e18-48039ee9b0ba",
   "metadata": {},
   "source": [
    "# Q6.Time Check"
   ]
  },
  {
   "cell_type": "code",
   "execution_count": 25,
   "id": "0ad71f8d-12f5-4cba-b9b1-f211ab4117d6",
   "metadata": {},
   "outputs": [],
   "source": [
    "df2 = pd.read_csv(\"dataset-2.csv\")"
   ]
  },
  {
   "cell_type": "code",
   "execution_count": 27,
   "id": "0c226539-ba64-485b-b9ac-071038a7cba4",
   "metadata": {},
   "outputs": [
    {
     "data": {
      "text/html": [
       "<div>\n",
       "<style scoped>\n",
       "    .dataframe tbody tr th:only-of-type {\n",
       "        vertical-align: middle;\n",
       "    }\n",
       "\n",
       "    .dataframe tbody tr th {\n",
       "        vertical-align: top;\n",
       "    }\n",
       "\n",
       "    .dataframe thead th {\n",
       "        text-align: right;\n",
       "    }\n",
       "</style>\n",
       "<table border=\"1\" class=\"dataframe\">\n",
       "  <thead>\n",
       "    <tr style=\"text-align: right;\">\n",
       "      <th></th>\n",
       "      <th>id</th>\n",
       "      <th>name</th>\n",
       "      <th>id_2</th>\n",
       "      <th>startDay</th>\n",
       "      <th>startTime</th>\n",
       "      <th>endDay</th>\n",
       "      <th>endTime</th>\n",
       "      <th>able2Hov2</th>\n",
       "      <th>able2Hov3</th>\n",
       "      <th>able3Hov2</th>\n",
       "      <th>able3Hov3</th>\n",
       "      <th>able5Hov2</th>\n",
       "      <th>able5Hov3</th>\n",
       "      <th>able4Hov2</th>\n",
       "      <th>able4Hov3</th>\n",
       "    </tr>\n",
       "  </thead>\n",
       "  <tbody>\n",
       "    <tr>\n",
       "      <th>0</th>\n",
       "      <td>1040000</td>\n",
       "      <td>Montgomery</td>\n",
       "      <td>-1</td>\n",
       "      <td>Monday</td>\n",
       "      <td>05:00:00</td>\n",
       "      <td>Wednesday</td>\n",
       "      <td>10:00:00</td>\n",
       "      <td>3.0</td>\n",
       "      <td>3.0</td>\n",
       "      <td>-1.0</td>\n",
       "      <td>-1</td>\n",
       "      <td>3</td>\n",
       "      <td>3</td>\n",
       "      <td>3</td>\n",
       "      <td>3</td>\n",
       "    </tr>\n",
       "    <tr>\n",
       "      <th>1</th>\n",
       "      <td>1040010</td>\n",
       "      <td>Black</td>\n",
       "      <td>-1</td>\n",
       "      <td>Monday</td>\n",
       "      <td>10:00:00</td>\n",
       "      <td>Friday</td>\n",
       "      <td>15:00:00</td>\n",
       "      <td>6.0</td>\n",
       "      <td>6.0</td>\n",
       "      <td>-1.0</td>\n",
       "      <td>-1</td>\n",
       "      <td>6</td>\n",
       "      <td>6</td>\n",
       "      <td>6</td>\n",
       "      <td>6</td>\n",
       "    </tr>\n",
       "    <tr>\n",
       "      <th>2</th>\n",
       "      <td>1040020</td>\n",
       "      <td>Emerald</td>\n",
       "      <td>-1</td>\n",
       "      <td>Thursday</td>\n",
       "      <td>15:00:00</td>\n",
       "      <td>Friday</td>\n",
       "      <td>19:00:00</td>\n",
       "      <td>3.0</td>\n",
       "      <td>3.0</td>\n",
       "      <td>-1.0</td>\n",
       "      <td>-1</td>\n",
       "      <td>3</td>\n",
       "      <td>3</td>\n",
       "      <td>3</td>\n",
       "      <td>3</td>\n",
       "    </tr>\n",
       "    <tr>\n",
       "      <th>3</th>\n",
       "      <td>1040030</td>\n",
       "      <td>Foley</td>\n",
       "      <td>-1</td>\n",
       "      <td>Monday</td>\n",
       "      <td>19:00:00</td>\n",
       "      <td>Friday</td>\n",
       "      <td>23:59:59</td>\n",
       "      <td>6.0</td>\n",
       "      <td>6.0</td>\n",
       "      <td>-1.0</td>\n",
       "      <td>-1</td>\n",
       "      <td>6</td>\n",
       "      <td>6</td>\n",
       "      <td>6</td>\n",
       "      <td>6</td>\n",
       "    </tr>\n",
       "    <tr>\n",
       "      <th>4</th>\n",
       "      <td>1050000</td>\n",
       "      <td>Whittier</td>\n",
       "      <td>1050001</td>\n",
       "      <td>Saturday</td>\n",
       "      <td>00:00:00</td>\n",
       "      <td>Sunday</td>\n",
       "      <td>23:59:59</td>\n",
       "      <td>6.0</td>\n",
       "      <td>6.0</td>\n",
       "      <td>NaN</td>\n",
       "      <td>-1</td>\n",
       "      <td>6</td>\n",
       "      <td>6</td>\n",
       "      <td>6</td>\n",
       "      <td>6</td>\n",
       "    </tr>\n",
       "  </tbody>\n",
       "</table>\n",
       "</div>"
      ],
      "text/plain": [
       "        id        name     id_2  startDay startTime     endDay   endTime  \\\n",
       "0  1040000  Montgomery       -1    Monday  05:00:00  Wednesday  10:00:00   \n",
       "1  1040010       Black       -1    Monday  10:00:00     Friday  15:00:00   \n",
       "2  1040020     Emerald       -1  Thursday  15:00:00     Friday  19:00:00   \n",
       "3  1040030       Foley       -1    Monday  19:00:00     Friday  23:59:59   \n",
       "4  1050000    Whittier  1050001  Saturday  00:00:00     Sunday  23:59:59   \n",
       "\n",
       "   able2Hov2  able2Hov3  able3Hov2  able3Hov3  able5Hov2  able5Hov3  \\\n",
       "0        3.0        3.0       -1.0         -1          3          3   \n",
       "1        6.0        6.0       -1.0         -1          6          6   \n",
       "2        3.0        3.0       -1.0         -1          3          3   \n",
       "3        6.0        6.0       -1.0         -1          6          6   \n",
       "4        6.0        6.0        NaN         -1          6          6   \n",
       "\n",
       "   able4Hov2  able4Hov3  \n",
       "0          3          3  \n",
       "1          6          6  \n",
       "2          3          3  \n",
       "3          6          6  \n",
       "4          6          6  "
      ]
     },
     "execution_count": 27,
     "metadata": {},
     "output_type": "execute_result"
    }
   ],
   "source": [
    "df2.head()"
   ]
  },
  {
   "cell_type": "code",
   "execution_count": 29,
   "id": "dc26cba7-1d90-4d3c-832c-180981eaeb2b",
   "metadata": {},
   "outputs": [
    {
     "data": {
      "text/plain": [
       "592710"
      ]
     },
     "execution_count": 29,
     "metadata": {},
     "output_type": "execute_result"
    }
   ],
   "source": [
    "df2.size"
   ]
  },
  {
   "cell_type": "code",
   "execution_count": 30,
   "id": "69d29e08-09e8-4f55-8c48-20966bb18802",
   "metadata": {},
   "outputs": [
    {
     "data": {
      "text/plain": [
       "(39514, 15)"
      ]
     },
     "execution_count": 30,
     "metadata": {},
     "output_type": "execute_result"
    }
   ],
   "source": [
    "df2.shape"
   ]
  },
  {
   "cell_type": "code",
   "execution_count": 32,
   "id": "1f7b3f1c-b094-4273-b3d3-0d55a80cf617",
   "metadata": {},
   "outputs": [
    {
     "data": {
      "text/plain": [
       "id              0\n",
       "name            0\n",
       "id_2            0\n",
       "startDay        0\n",
       "startTime       0\n",
       "endDay          0\n",
       "endTime         0\n",
       "able2Hov2    1806\n",
       "able2Hov3    1805\n",
       "able3Hov2    1805\n",
       "able3Hov3       0\n",
       "able5Hov2       0\n",
       "able5Hov3       0\n",
       "able4Hov2       0\n",
       "able4Hov3       0\n",
       "dtype: int64"
      ]
     },
     "execution_count": 32,
     "metadata": {},
     "output_type": "execute_result"
    }
   ],
   "source": [
    "df2.isnull().sum()"
   ]
  },
  {
   "cell_type": "code",
   "execution_count": 33,
   "id": "93fe0847-2481-4955-bd75-2ddcd813e237",
   "metadata": {},
   "outputs": [
    {
     "name": "stdout",
     "output_type": "stream",
     "text": [
      "<class 'pandas.core.frame.DataFrame'>\n",
      "RangeIndex: 39514 entries, 0 to 39513\n",
      "Data columns (total 15 columns):\n",
      " #   Column     Non-Null Count  Dtype  \n",
      "---  ------     --------------  -----  \n",
      " 0   id         39514 non-null  int64  \n",
      " 1   name       39514 non-null  object \n",
      " 2   id_2       39514 non-null  int64  \n",
      " 3   startDay   39514 non-null  object \n",
      " 4   startTime  39514 non-null  object \n",
      " 5   endDay     39514 non-null  object \n",
      " 6   endTime    39514 non-null  object \n",
      " 7   able2Hov2  37708 non-null  float64\n",
      " 8   able2Hov3  37709 non-null  float64\n",
      " 9   able3Hov2  37709 non-null  float64\n",
      " 10  able3Hov3  39514 non-null  int64  \n",
      " 11  able5Hov2  39514 non-null  int64  \n",
      " 12  able5Hov3  39514 non-null  int64  \n",
      " 13  able4Hov2  39514 non-null  int64  \n",
      " 14  able4Hov3  39514 non-null  int64  \n",
      "dtypes: float64(3), int64(7), object(5)\n",
      "memory usage: 4.5+ MB\n"
     ]
    }
   ],
   "source": [
    "df2.info()"
   ]
  },
  {
   "cell_type": "code",
   "execution_count": 36,
   "id": "1889fcf3-4dec-46b5-bc41-3b1816e92865",
   "metadata": {},
   "outputs": [
    {
     "data": {
      "text/html": [
       "<div>\n",
       "<style scoped>\n",
       "    .dataframe tbody tr th:only-of-type {\n",
       "        vertical-align: middle;\n",
       "    }\n",
       "\n",
       "    .dataframe tbody tr th {\n",
       "        vertical-align: top;\n",
       "    }\n",
       "\n",
       "    .dataframe thead th {\n",
       "        text-align: right;\n",
       "    }\n",
       "</style>\n",
       "<table border=\"1\" class=\"dataframe\">\n",
       "  <thead>\n",
       "    <tr style=\"text-align: right;\">\n",
       "      <th></th>\n",
       "      <th>id</th>\n",
       "      <th>id_2</th>\n",
       "      <th>able2Hov2</th>\n",
       "      <th>able2Hov3</th>\n",
       "      <th>able3Hov2</th>\n",
       "      <th>able3Hov3</th>\n",
       "      <th>able5Hov2</th>\n",
       "      <th>able5Hov3</th>\n",
       "      <th>able4Hov2</th>\n",
       "      <th>able4Hov3</th>\n",
       "    </tr>\n",
       "  </thead>\n",
       "  <tbody>\n",
       "    <tr>\n",
       "      <th>count</th>\n",
       "      <td>3.951400e+04</td>\n",
       "      <td>3.951400e+04</td>\n",
       "      <td>37708.000000</td>\n",
       "      <td>37709.000000</td>\n",
       "      <td>37709.000000</td>\n",
       "      <td>39514.000000</td>\n",
       "      <td>39514.000000</td>\n",
       "      <td>39514.000000</td>\n",
       "      <td>39514.000000</td>\n",
       "      <td>39514.000000</td>\n",
       "    </tr>\n",
       "    <tr>\n",
       "      <th>mean</th>\n",
       "      <td>1.077964e+06</td>\n",
       "      <td>9.368771e+05</td>\n",
       "      <td>7.278296</td>\n",
       "      <td>7.026705</td>\n",
       "      <td>1.284494</td>\n",
       "      <td>1.145822</td>\n",
       "      <td>7.185706</td>\n",
       "      <td>7.185706</td>\n",
       "      <td>7.185706</td>\n",
       "      <td>7.185706</td>\n",
       "    </tr>\n",
       "    <tr>\n",
       "      <th>std</th>\n",
       "      <td>9.513009e+04</td>\n",
       "      <td>3.722498e+05</td>\n",
       "      <td>2.787625</td>\n",
       "      <td>2.833093</td>\n",
       "      <td>2.533670</td>\n",
       "      <td>2.474816</td>\n",
       "      <td>2.843141</td>\n",
       "      <td>2.843141</td>\n",
       "      <td>2.843141</td>\n",
       "      <td>2.843141</td>\n",
       "    </tr>\n",
       "    <tr>\n",
       "      <th>min</th>\n",
       "      <td>1.014000e+06</td>\n",
       "      <td>-1.000000e+00</td>\n",
       "      <td>3.000000</td>\n",
       "      <td>3.000000</td>\n",
       "      <td>-1.000000</td>\n",
       "      <td>-1.000000</td>\n",
       "      <td>3.000000</td>\n",
       "      <td>3.000000</td>\n",
       "      <td>3.000000</td>\n",
       "      <td>3.000000</td>\n",
       "    </tr>\n",
       "    <tr>\n",
       "      <th>25%</th>\n",
       "      <td>1.030036e+06</td>\n",
       "      <td>1.030016e+06</td>\n",
       "      <td>6.000000</td>\n",
       "      <td>6.000000</td>\n",
       "      <td>-1.000000</td>\n",
       "      <td>-1.000000</td>\n",
       "      <td>6.000000</td>\n",
       "      <td>6.000000</td>\n",
       "      <td>6.000000</td>\n",
       "      <td>6.000000</td>\n",
       "    </tr>\n",
       "    <tr>\n",
       "      <th>50%</th>\n",
       "      <td>1.030074e+06</td>\n",
       "      <td>1.030058e+06</td>\n",
       "      <td>6.000000</td>\n",
       "      <td>6.000000</td>\n",
       "      <td>-1.000000</td>\n",
       "      <td>-1.000000</td>\n",
       "      <td>6.000000</td>\n",
       "      <td>6.000000</td>\n",
       "      <td>6.000000</td>\n",
       "      <td>6.000000</td>\n",
       "    </tr>\n",
       "    <tr>\n",
       "      <th>75%</th>\n",
       "      <td>1.068753e+06</td>\n",
       "      <td>1.031018e+06</td>\n",
       "      <td>11.000000</td>\n",
       "      <td>11.000000</td>\n",
       "      <td>4.000000</td>\n",
       "      <td>4.000000</td>\n",
       "      <td>11.000000</td>\n",
       "      <td>11.000000</td>\n",
       "      <td>11.000000</td>\n",
       "      <td>11.000000</td>\n",
       "    </tr>\n",
       "    <tr>\n",
       "      <th>max</th>\n",
       "      <td>1.330016e+06</td>\n",
       "      <td>1.330016e+06</td>\n",
       "      <td>11.000000</td>\n",
       "      <td>11.000000</td>\n",
       "      <td>5.000000</td>\n",
       "      <td>4.000000</td>\n",
       "      <td>11.000000</td>\n",
       "      <td>11.000000</td>\n",
       "      <td>11.000000</td>\n",
       "      <td>11.000000</td>\n",
       "    </tr>\n",
       "  </tbody>\n",
       "</table>\n",
       "</div>"
      ],
      "text/plain": [
       "                 id          id_2     able2Hov2     able2Hov3     able3Hov2  \\\n",
       "count  3.951400e+04  3.951400e+04  37708.000000  37709.000000  37709.000000   \n",
       "mean   1.077964e+06  9.368771e+05      7.278296      7.026705      1.284494   \n",
       "std    9.513009e+04  3.722498e+05      2.787625      2.833093      2.533670   \n",
       "min    1.014000e+06 -1.000000e+00      3.000000      3.000000     -1.000000   \n",
       "25%    1.030036e+06  1.030016e+06      6.000000      6.000000     -1.000000   \n",
       "50%    1.030074e+06  1.030058e+06      6.000000      6.000000     -1.000000   \n",
       "75%    1.068753e+06  1.031018e+06     11.000000     11.000000      4.000000   \n",
       "max    1.330016e+06  1.330016e+06     11.000000     11.000000      5.000000   \n",
       "\n",
       "          able3Hov3     able5Hov2     able5Hov3     able4Hov2     able4Hov3  \n",
       "count  39514.000000  39514.000000  39514.000000  39514.000000  39514.000000  \n",
       "mean       1.145822      7.185706      7.185706      7.185706      7.185706  \n",
       "std        2.474816      2.843141      2.843141      2.843141      2.843141  \n",
       "min       -1.000000      3.000000      3.000000      3.000000      3.000000  \n",
       "25%       -1.000000      6.000000      6.000000      6.000000      6.000000  \n",
       "50%       -1.000000      6.000000      6.000000      6.000000      6.000000  \n",
       "75%        4.000000     11.000000     11.000000     11.000000     11.000000  \n",
       "max        4.000000     11.000000     11.000000     11.000000     11.000000  "
      ]
     },
     "execution_count": 36,
     "metadata": {},
     "output_type": "execute_result"
    }
   ],
   "source": [
    "df2.describe()"
   ]
  },
  {
   "cell_type": "code",
   "execution_count": 37,
   "id": "855e1094-cbfb-4d0f-9c4e-0c3610ef58e6",
   "metadata": {},
   "outputs": [
    {
     "name": "stdout",
     "output_type": "stream",
     "text": [
      "id           0\n",
      "name         0\n",
      "id_2         0\n",
      "startDay     0\n",
      "startTime    0\n",
      "endDay       0\n",
      "endTime      0\n",
      "able2Hov2    0\n",
      "able2Hov3    0\n",
      "able3Hov2    0\n",
      "able3Hov3    0\n",
      "able5Hov2    0\n",
      "able5Hov3    0\n",
      "able4Hov2    0\n",
      "able4Hov3    0\n",
      "dtype: int64\n"
     ]
    }
   ],
   "source": [
    "# Replace NaN values with mean values\n",
    "mean_values = df2[['able2Hov2', 'able2Hov3', 'able3Hov2']].mean()\n",
    "df2['able2Hov2'].fillna(mean_values['able2Hov2'], inplace=True)\n",
    "df2['able2Hov3'].fillna(mean_values['able2Hov3'], inplace=True)\n",
    "df2['able3Hov2'].fillna(mean_values['able3Hov2'], inplace=True)\n",
    "\n",
    "# Verify that NaN values have been replaced\n",
    "print(df2.isnull().sum())\n"
   ]
  },
  {
   "cell_type": "code",
   "execution_count": 41,
   "id": "80be011a-c6b0-42f3-98b9-1441af979e10",
   "metadata": {},
   "outputs": [
    {
     "name": "stdout",
     "output_type": "stream",
     "text": [
      "id       id_2    \n",
      "1014000  -1          False\n",
      "1014002  -1          False\n",
      "1014003  -1          False\n",
      "1030000  -1          False\n",
      "          1030002    False\n",
      "                     ...  \n",
      "1330016   1330006    False\n",
      "          1330008    False\n",
      "          1330010    False\n",
      "          1330012    False\n",
      "          1330014    False\n",
      "Length: 9254, dtype: bool\n"
     ]
    }
   ],
   "source": [
    "import pandas as pd\n",
    "\n",
    "\n",
    "\n",
    "# Function to check if a pair covers a full 24-hour period and spans all 7 days\n",
    "def check_pair_completeness(pair_df):\n",
    "    start_times = pair_df['start_datetime']\n",
    "    end_times = pair_df['end_datetime']\n",
    "\n",
    "    full_day_coverage = all(\n",
    "        start_time.hour == 0 and start_time.minute == 0 and end_time.hour == 23 and end_time.minute == 59\n",
    "        for start_time, end_time in zip(start_times, end_times) if not pd.isnull(start_time) and not pd.isnull(end_time)\n",
    "    )\n",
    "\n",
    "    days_covered = set(start_time.day_name() for start_time in start_times if not pd.isnull(start_time))\n",
    "\n",
    "    return full_day_coverage and len(days_covered) == 7\n",
    "\n",
    "# Combine date and time columns to create datetime objects\n",
    "df2['start_datetime'] = pd.to_datetime(df2['startDay'] + ' ' + df2['startTime'], errors='coerce')\n",
    "df2['end_datetime'] = pd.to_datetime(df2['endDay'] + ' ' + df2['endTime'], errors='coerce')\n",
    "\n",
    "# Check if each pair covers a full 24-hour period and spans all 7 days\n",
    "completeness_check = df2.groupby(['id', 'id_2']).apply(lambda pair_df: check_pair_completeness(pair_df))\n",
    "\n",
    "\n",
    "print(completeness_check)\n"
   ]
  },
  {
   "cell_type": "code",
   "execution_count": null,
   "id": "2c114b09-9dcd-46fc-97c7-d42064bff903",
   "metadata": {},
   "outputs": [],
   "source": []
  },
  {
   "cell_type": "code",
   "execution_count": null,
   "id": "f4437879-2b6b-48b2-a90f-e013a4ae8c74",
   "metadata": {},
   "outputs": [],
   "source": []
  },
  {
   "cell_type": "code",
   "execution_count": null,
   "id": "0b1384ed-2466-422f-916d-d12a3f86ae61",
   "metadata": {},
   "outputs": [],
   "source": []
  },
  {
   "cell_type": "code",
   "execution_count": null,
   "id": "9e2ef4e0-ec4c-4aa6-b0ee-56c39172fc29",
   "metadata": {},
   "outputs": [],
   "source": []
  }
 ],
 "metadata": {
  "kernelspec": {
   "display_name": "Python 3 (ipykernel)",
   "language": "python",
   "name": "python3"
  },
  "language_info": {
   "codemirror_mode": {
    "name": "ipython",
    "version": 3
   },
   "file_extension": ".py",
   "mimetype": "text/x-python",
   "name": "python",
   "nbconvert_exporter": "python",
   "pygments_lexer": "ipython3",
   "version": "3.10.9"
  }
 },
 "nbformat": 4,
 "nbformat_minor": 5
}
